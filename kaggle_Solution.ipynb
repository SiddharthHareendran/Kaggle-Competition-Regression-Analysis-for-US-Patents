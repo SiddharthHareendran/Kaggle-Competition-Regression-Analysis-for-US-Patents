{
 "cells": [
  {
   "cell_type": "markdown",
   "metadata": {},
   "source": [
    "# Kaggle Competition Notebook"
   ]
  },
  {
   "cell_type": "code",
   "execution_count": 81,
   "metadata": {
    "ExecuteTime": {
     "end_time": "2020-04-06T14:38:43.556919Z",
     "start_time": "2020-04-06T14:38:43.553923Z"
    }
   },
   "outputs": [],
   "source": [
    "import pandas as pd\n",
    "import matplotlib.pyplot as plt"
   ]
  },
  {
   "cell_type": "code",
   "execution_count": 82,
   "metadata": {
    "ExecuteTime": {
     "end_time": "2020-04-06T14:38:44.042531Z",
     "start_time": "2020-04-06T14:38:43.992609Z"
    }
   },
   "outputs": [],
   "source": [
    "data =  pd.read_csv(\"train.csv\")\n",
    "test= pd.read_csv(\"test.csv\")"
   ]
  },
  {
   "cell_type": "code",
   "execution_count": 83,
   "metadata": {
    "ExecuteTime": {
     "end_time": "2020-04-06T14:38:44.463373Z",
     "start_time": "2020-04-06T14:38:44.447384Z"
    },
    "scrolled": true
   },
   "outputs": [
    {
     "data": {
      "text/html": [
       "<div>\n",
       "<style scoped>\n",
       "    .dataframe tbody tr th:only-of-type {\n",
       "        vertical-align: middle;\n",
       "    }\n",
       "\n",
       "    .dataframe tbody tr th {\n",
       "        vertical-align: top;\n",
       "    }\n",
       "\n",
       "    .dataframe thead th {\n",
       "        text-align: right;\n",
       "    }\n",
       "</style>\n",
       "<table border=\"1\" class=\"dataframe\">\n",
       "  <thead>\n",
       "    <tr style=\"text-align: right;\">\n",
       "      <th></th>\n",
       "      <th>Id</th>\n",
       "      <th>fwd</th>\n",
       "      <th>lag_d</th>\n",
       "      <th>noc</th>\n",
       "      <th>gy</th>\n",
       "      <th>ay</th>\n",
       "      <th>noi</th>\n",
       "      <th>UMC</th>\n",
       "      <th>firm</th>\n",
       "      <th>MSA</th>\n",
       "      <th>tbm</th>\n",
       "      <th>tbru</th>\n",
       "      <th>PAG</th>\n",
       "      <th>npr</th>\n",
       "      <th>fpr</th>\n",
       "      <th>FT</th>\n",
       "      <th>FS</th>\n",
       "    </tr>\n",
       "  </thead>\n",
       "  <tbody>\n",
       "    <tr>\n",
       "      <th>0</th>\n",
       "      <td>1</td>\n",
       "      <td>15</td>\n",
       "      <td>669</td>\n",
       "      <td>21</td>\n",
       "      <td>1998</td>\n",
       "      <td>1996</td>\n",
       "      <td>2</td>\n",
       "      <td>707</td>\n",
       "      <td>280070</td>\n",
       "      <td>261</td>\n",
       "      <td>13</td>\n",
       "      <td>0.60357</td>\n",
       "      <td>5366339.923</td>\n",
       "      <td>6</td>\n",
       "      <td>0</td>\n",
       "      <td>2</td>\n",
       "      <td>225.0</td>\n",
       "    </tr>\n",
       "    <tr>\n",
       "      <th>1</th>\n",
       "      <td>2</td>\n",
       "      <td>8</td>\n",
       "      <td>301</td>\n",
       "      <td>18</td>\n",
       "      <td>1990</td>\n",
       "      <td>1989</td>\n",
       "      <td>2</td>\n",
       "      <td>348</td>\n",
       "      <td>789656</td>\n",
       "      <td>538</td>\n",
       "      <td>1</td>\n",
       "      <td>0.00000</td>\n",
       "      <td>4719510.000</td>\n",
       "      <td>1</td>\n",
       "      <td>0</td>\n",
       "      <td>2</td>\n",
       "      <td>310.0</td>\n",
       "    </tr>\n",
       "    <tr>\n",
       "      <th>2</th>\n",
       "      <td>3</td>\n",
       "      <td>75</td>\n",
       "      <td>1016</td>\n",
       "      <td>23</td>\n",
       "      <td>1997</td>\n",
       "      <td>1994</td>\n",
       "      <td>5</td>\n",
       "      <td>725</td>\n",
       "      <td>499570</td>\n",
       "      <td>13</td>\n",
       "      <td>6</td>\n",
       "      <td>0.61112</td>\n",
       "      <td>4893738.000</td>\n",
       "      <td>0</td>\n",
       "      <td>0</td>\n",
       "      <td>2</td>\n",
       "      <td>3.0</td>\n",
       "    </tr>\n",
       "    <tr>\n",
       "      <th>3</th>\n",
       "      <td>4</td>\n",
       "      <td>50</td>\n",
       "      <td>929</td>\n",
       "      <td>32</td>\n",
       "      <td>1997</td>\n",
       "      <td>1994</td>\n",
       "      <td>3</td>\n",
       "      <td>315</td>\n",
       "      <td>654319</td>\n",
       "      <td>553</td>\n",
       "      <td>4</td>\n",
       "      <td>0.37500</td>\n",
       "      <td>4817136.250</td>\n",
       "      <td>0</td>\n",
       "      <td>5</td>\n",
       "      <td>3</td>\n",
       "      <td>64.0</td>\n",
       "    </tr>\n",
       "    <tr>\n",
       "      <th>4</th>\n",
       "      <td>5</td>\n",
       "      <td>18</td>\n",
       "      <td>1233</td>\n",
       "      <td>20</td>\n",
       "      <td>1999</td>\n",
       "      <td>1996</td>\n",
       "      <td>2</td>\n",
       "      <td>710</td>\n",
       "      <td>551495</td>\n",
       "      <td>261</td>\n",
       "      <td>2</td>\n",
       "      <td>0.00000</td>\n",
       "      <td>5135114.000</td>\n",
       "      <td>0</td>\n",
       "      <td>0</td>\n",
       "      <td>2</td>\n",
       "      <td>14.0</td>\n",
       "    </tr>\n",
       "  </tbody>\n",
       "</table>\n",
       "</div>"
      ],
      "text/plain": [
       "   Id  fwd  lag_d  noc    gy    ay  noi  UMC    firm  MSA  tbm     tbru  \\\n",
       "0   1   15    669   21  1998  1996    2  707  280070  261   13  0.60357   \n",
       "1   2    8    301   18  1990  1989    2  348  789656  538    1  0.00000   \n",
       "2   3   75   1016   23  1997  1994    5  725  499570   13    6  0.61112   \n",
       "3   4   50    929   32  1997  1994    3  315  654319  553    4  0.37500   \n",
       "4   5   18   1233   20  1999  1996    2  710  551495  261    2  0.00000   \n",
       "\n",
       "           PAG  npr  fpr  FT     FS  \n",
       "0  5366339.923    6    0   2  225.0  \n",
       "1  4719510.000    1    0   2  310.0  \n",
       "2  4893738.000    0    0   2    3.0  \n",
       "3  4817136.250    0    5   3   64.0  \n",
       "4  5135114.000    0    0   2   14.0  "
      ]
     },
     "execution_count": 83,
     "metadata": {},
     "output_type": "execute_result"
    }
   ],
   "source": [
    "pd.set_option('display.max_columns', 999)\n",
    "data.head()"
   ]
  },
  {
   "cell_type": "code",
   "execution_count": 84,
   "metadata": {
    "ExecuteTime": {
     "end_time": "2020-04-06T14:38:44.896178Z",
     "start_time": "2020-04-06T14:38:44.883210Z"
    }
   },
   "outputs": [
    {
     "data": {
      "text/html": [
       "<div>\n",
       "<style scoped>\n",
       "    .dataframe tbody tr th:only-of-type {\n",
       "        vertical-align: middle;\n",
       "    }\n",
       "\n",
       "    .dataframe tbody tr th {\n",
       "        vertical-align: top;\n",
       "    }\n",
       "\n",
       "    .dataframe thead th {\n",
       "        text-align: right;\n",
       "    }\n",
       "</style>\n",
       "<table border=\"1\" class=\"dataframe\">\n",
       "  <thead>\n",
       "    <tr style=\"text-align: right;\">\n",
       "      <th></th>\n",
       "      <th>Id</th>\n",
       "      <th>lag_d</th>\n",
       "      <th>noc</th>\n",
       "      <th>gy</th>\n",
       "      <th>ay</th>\n",
       "      <th>noi</th>\n",
       "      <th>UMC</th>\n",
       "      <th>firm</th>\n",
       "      <th>MSA</th>\n",
       "      <th>tbm</th>\n",
       "      <th>tbru</th>\n",
       "      <th>PAG</th>\n",
       "      <th>npr</th>\n",
       "      <th>fpr</th>\n",
       "      <th>FT</th>\n",
       "      <th>FS</th>\n",
       "    </tr>\n",
       "  </thead>\n",
       "  <tbody>\n",
       "    <tr>\n",
       "      <th>0</th>\n",
       "      <td>10001</td>\n",
       "      <td>895</td>\n",
       "      <td>9</td>\n",
       "      <td>1993</td>\n",
       "      <td>1991</td>\n",
       "      <td>2</td>\n",
       "      <td>340</td>\n",
       "      <td>441575</td>\n",
       "      <td>553</td>\n",
       "      <td>6</td>\n",
       "      <td>0.77781</td>\n",
       "      <td>4527382.167</td>\n",
       "      <td>0</td>\n",
       "      <td>0</td>\n",
       "      <td>3</td>\n",
       "      <td>2.0</td>\n",
       "    </tr>\n",
       "    <tr>\n",
       "      <th>1</th>\n",
       "      <td>10002</td>\n",
       "      <td>1187</td>\n",
       "      <td>17</td>\n",
       "      <td>2001</td>\n",
       "      <td>1997</td>\n",
       "      <td>1</td>\n",
       "      <td>714</td>\n",
       "      <td>280070</td>\n",
       "      <td>213</td>\n",
       "      <td>12</td>\n",
       "      <td>0.72224</td>\n",
       "      <td>5558154.000</td>\n",
       "      <td>0</td>\n",
       "      <td>0</td>\n",
       "      <td>2</td>\n",
       "      <td>240.0</td>\n",
       "    </tr>\n",
       "    <tr>\n",
       "      <th>2</th>\n",
       "      <td>10003</td>\n",
       "      <td>837</td>\n",
       "      <td>46</td>\n",
       "      <td>1997</td>\n",
       "      <td>1995</td>\n",
       "      <td>4</td>\n",
       "      <td>370</td>\n",
       "      <td>795471</td>\n",
       "      <td>302</td>\n",
       "      <td>22</td>\n",
       "      <td>0.65705</td>\n",
       "      <td>4921162.000</td>\n",
       "      <td>1</td>\n",
       "      <td>0</td>\n",
       "      <td>2</td>\n",
       "      <td>72.0</td>\n",
       "    </tr>\n",
       "    <tr>\n",
       "      <th>3</th>\n",
       "      <td>10004</td>\n",
       "      <td>1110</td>\n",
       "      <td>25</td>\n",
       "      <td>2000</td>\n",
       "      <td>1997</td>\n",
       "      <td>1</td>\n",
       "      <td>709</td>\n",
       "      <td>864032</td>\n",
       "      <td>206</td>\n",
       "      <td>4</td>\n",
       "      <td>0.62500</td>\n",
       "      <td>5670063.500</td>\n",
       "      <td>0</td>\n",
       "      <td>0</td>\n",
       "      <td>2</td>\n",
       "      <td>113.0</td>\n",
       "    </tr>\n",
       "    <tr>\n",
       "      <th>4</th>\n",
       "      <td>10005</td>\n",
       "      <td>858</td>\n",
       "      <td>2</td>\n",
       "      <td>1982</td>\n",
       "      <td>1979</td>\n",
       "      <td>3</td>\n",
       "      <td>715</td>\n",
       "      <td>280070</td>\n",
       "      <td>302</td>\n",
       "      <td>4</td>\n",
       "      <td>0.37500</td>\n",
       "      <td>4027948.000</td>\n",
       "      <td>0</td>\n",
       "      <td>0</td>\n",
       "      <td>2</td>\n",
       "      <td>325.0</td>\n",
       "    </tr>\n",
       "  </tbody>\n",
       "</table>\n",
       "</div>"
      ],
      "text/plain": [
       "      Id  lag_d  noc    gy    ay  noi  UMC    firm  MSA  tbm     tbru  \\\n",
       "0  10001    895    9  1993  1991    2  340  441575  553    6  0.77781   \n",
       "1  10002   1187   17  2001  1997    1  714  280070  213   12  0.72224   \n",
       "2  10003    837   46  1997  1995    4  370  795471  302   22  0.65705   \n",
       "3  10004   1110   25  2000  1997    1  709  864032  206    4  0.62500   \n",
       "4  10005    858    2  1982  1979    3  715  280070  302    4  0.37500   \n",
       "\n",
       "           PAG  npr  fpr  FT     FS  \n",
       "0  4527382.167    0    0   3    2.0  \n",
       "1  5558154.000    0    0   2  240.0  \n",
       "2  4921162.000    1    0   2   72.0  \n",
       "3  5670063.500    0    0   2  113.0  \n",
       "4  4027948.000    0    0   2  325.0  "
      ]
     },
     "execution_count": 84,
     "metadata": {},
     "output_type": "execute_result"
    }
   ],
   "source": [
    "test.head()"
   ]
  },
  {
   "cell_type": "code",
   "execution_count": 85,
   "metadata": {
    "ExecuteTime": {
     "end_time": "2020-04-06T14:38:45.334093Z",
     "start_time": "2020-04-06T14:38:45.329110Z"
    }
   },
   "outputs": [
    {
     "data": {
      "text/plain": [
       "(10000, 17)"
      ]
     },
     "execution_count": 85,
     "metadata": {},
     "output_type": "execute_result"
    }
   ],
   "source": [
    "data.shape"
   ]
  },
  {
   "cell_type": "code",
   "execution_count": 86,
   "metadata": {
    "ExecuteTime": {
     "end_time": "2020-04-06T14:38:45.789853Z",
     "start_time": "2020-04-06T14:38:45.785850Z"
    }
   },
   "outputs": [
    {
     "data": {
      "text/plain": [
       "(14000, 16)"
      ]
     },
     "execution_count": 86,
     "metadata": {},
     "output_type": "execute_result"
    }
   ],
   "source": [
    "test.shape"
   ]
  },
  {
   "cell_type": "code",
   "execution_count": 87,
   "metadata": {
    "ExecuteTime": {
     "end_time": "2020-04-06T14:38:46.317956Z",
     "start_time": "2020-04-06T14:38:46.255125Z"
    },
    "scrolled": false
   },
   "outputs": [
    {
     "data": {
      "text/html": [
       "<div>\n",
       "<style scoped>\n",
       "    .dataframe tbody tr th:only-of-type {\n",
       "        vertical-align: middle;\n",
       "    }\n",
       "\n",
       "    .dataframe tbody tr th {\n",
       "        vertical-align: top;\n",
       "    }\n",
       "\n",
       "    .dataframe thead th {\n",
       "        text-align: right;\n",
       "    }\n",
       "</style>\n",
       "<table border=\"1\" class=\"dataframe\">\n",
       "  <thead>\n",
       "    <tr style=\"text-align: right;\">\n",
       "      <th></th>\n",
       "      <th>Id</th>\n",
       "      <th>fwd</th>\n",
       "      <th>lag_d</th>\n",
       "      <th>noc</th>\n",
       "      <th>gy</th>\n",
       "      <th>ay</th>\n",
       "      <th>noi</th>\n",
       "      <th>UMC</th>\n",
       "      <th>firm</th>\n",
       "      <th>MSA</th>\n",
       "      <th>tbm</th>\n",
       "      <th>tbru</th>\n",
       "      <th>PAG</th>\n",
       "      <th>npr</th>\n",
       "      <th>fpr</th>\n",
       "      <th>FT</th>\n",
       "      <th>FS</th>\n",
       "    </tr>\n",
       "  </thead>\n",
       "  <tbody>\n",
       "    <tr>\n",
       "      <th>count</th>\n",
       "      <td>10000.00000</td>\n",
       "      <td>10000.00000</td>\n",
       "      <td>10000.000000</td>\n",
       "      <td>10000.000000</td>\n",
       "      <td>10000.000000</td>\n",
       "      <td>10000.000000</td>\n",
       "      <td>10000.000000</td>\n",
       "      <td>10000.000000</td>\n",
       "      <td>10000.000000</td>\n",
       "      <td>10000.000000</td>\n",
       "      <td>10000.000000</td>\n",
       "      <td>10000.000000</td>\n",
       "      <td>1.000000e+04</td>\n",
       "      <td>10000.000000</td>\n",
       "      <td>10000.000000</td>\n",
       "      <td>10000.000000</td>\n",
       "      <td>5910.000000</td>\n",
       "    </tr>\n",
       "    <tr>\n",
       "      <th>mean</th>\n",
       "      <td>5000.50000</td>\n",
       "      <td>27.60070</td>\n",
       "      <td>922.361200</td>\n",
       "      <td>18.983300</td>\n",
       "      <td>1995.225000</td>\n",
       "      <td>1992.682400</td>\n",
       "      <td>2.470200</td>\n",
       "      <td>569.438500</td>\n",
       "      <td>422177.515600</td>\n",
       "      <td>273.486600</td>\n",
       "      <td>11.196000</td>\n",
       "      <td>0.495767</td>\n",
       "      <td>4.871120e+06</td>\n",
       "      <td>3.144600</td>\n",
       "      <td>1.069600</td>\n",
       "      <td>2.224100</td>\n",
       "      <td>129.144162</td>\n",
       "    </tr>\n",
       "    <tr>\n",
       "      <th>std</th>\n",
       "      <td>2886.89568</td>\n",
       "      <td>34.78475</td>\n",
       "      <td>358.532159</td>\n",
       "      <td>15.854008</td>\n",
       "      <td>4.592699</td>\n",
       "      <td>4.520727</td>\n",
       "      <td>1.819957</td>\n",
       "      <td>180.249914</td>\n",
       "      <td>258237.559806</td>\n",
       "      <td>187.047603</td>\n",
       "      <td>14.839892</td>\n",
       "      <td>0.266452</td>\n",
       "      <td>6.936701e+05</td>\n",
       "      <td>13.661287</td>\n",
       "      <td>2.968676</td>\n",
       "      <td>0.659183</td>\n",
       "      <td>123.668584</td>\n",
       "    </tr>\n",
       "    <tr>\n",
       "      <th>min</th>\n",
       "      <td>1.00000</td>\n",
       "      <td>0.00000</td>\n",
       "      <td>0.000000</td>\n",
       "      <td>1.000000</td>\n",
       "      <td>1980.000000</td>\n",
       "      <td>1979.000000</td>\n",
       "      <td>1.000000</td>\n",
       "      <td>29.000000</td>\n",
       "      <td>0.000000</td>\n",
       "      <td>2.000000</td>\n",
       "      <td>0.000000</td>\n",
       "      <td>0.000000</td>\n",
       "      <td>0.000000e+00</td>\n",
       "      <td>0.000000</td>\n",
       "      <td>0.000000</td>\n",
       "      <td>1.000000</td>\n",
       "      <td>0.000000</td>\n",
       "    </tr>\n",
       "    <tr>\n",
       "      <th>25%</th>\n",
       "      <td>2500.75000</td>\n",
       "      <td>8.00000</td>\n",
       "      <td>692.000000</td>\n",
       "      <td>9.000000</td>\n",
       "      <td>1993.000000</td>\n",
       "      <td>1990.000000</td>\n",
       "      <td>1.000000</td>\n",
       "      <td>370.000000</td>\n",
       "      <td>250060.000000</td>\n",
       "      <td>142.000000</td>\n",
       "      <td>5.000000</td>\n",
       "      <td>0.345000</td>\n",
       "      <td>4.599728e+06</td>\n",
       "      <td>0.000000</td>\n",
       "      <td>0.000000</td>\n",
       "      <td>2.000000</td>\n",
       "      <td>19.000000</td>\n",
       "    </tr>\n",
       "    <tr>\n",
       "      <th>50%</th>\n",
       "      <td>5000.50000</td>\n",
       "      <td>17.00000</td>\n",
       "      <td>889.000000</td>\n",
       "      <td>16.000000</td>\n",
       "      <td>1997.000000</td>\n",
       "      <td>1994.000000</td>\n",
       "      <td>2.000000</td>\n",
       "      <td>704.000000</td>\n",
       "      <td>386735.000000</td>\n",
       "      <td>257.000000</td>\n",
       "      <td>8.000000</td>\n",
       "      <td>0.561750</td>\n",
       "      <td>4.973963e+06</td>\n",
       "      <td>1.000000</td>\n",
       "      <td>0.000000</td>\n",
       "      <td>2.000000</td>\n",
       "      <td>94.000000</td>\n",
       "    </tr>\n",
       "    <tr>\n",
       "      <th>75%</th>\n",
       "      <td>7500.25000</td>\n",
       "      <td>34.00000</td>\n",
       "      <td>1096.000000</td>\n",
       "      <td>24.000000</td>\n",
       "      <td>1999.000000</td>\n",
       "      <td>1996.000000</td>\n",
       "      <td>3.000000</td>\n",
       "      <td>711.000000</td>\n",
       "      <td>654319.000000</td>\n",
       "      <td>526.000000</td>\n",
       "      <td>13.000000</td>\n",
       "      <td>0.707505</td>\n",
       "      <td>5.287802e+06</td>\n",
       "      <td>2.000000</td>\n",
       "      <td>1.000000</td>\n",
       "      <td>3.000000</td>\n",
       "      <td>225.000000</td>\n",
       "    </tr>\n",
       "    <tr>\n",
       "      <th>max</th>\n",
       "      <td>10000.00000</td>\n",
       "      <td>522.00000</td>\n",
       "      <td>3848.000000</td>\n",
       "      <td>236.000000</td>\n",
       "      <td>2004.000000</td>\n",
       "      <td>1997.000000</td>\n",
       "      <td>23.000000</td>\n",
       "      <td>800.000000</td>\n",
       "      <td>864063.000000</td>\n",
       "      <td>602.000000</td>\n",
       "      <td>343.000000</td>\n",
       "      <td>0.933710</td>\n",
       "      <td>5.974557e+06</td>\n",
       "      <td>394.000000</td>\n",
       "      <td>85.000000</td>\n",
       "      <td>7.000000</td>\n",
       "      <td>854.000000</td>\n",
       "    </tr>\n",
       "  </tbody>\n",
       "</table>\n",
       "</div>"
      ],
      "text/plain": [
       "                Id          fwd         lag_d           noc            gy  \\\n",
       "count  10000.00000  10000.00000  10000.000000  10000.000000  10000.000000   \n",
       "mean    5000.50000     27.60070    922.361200     18.983300   1995.225000   \n",
       "std     2886.89568     34.78475    358.532159     15.854008      4.592699   \n",
       "min        1.00000      0.00000      0.000000      1.000000   1980.000000   \n",
       "25%     2500.75000      8.00000    692.000000      9.000000   1993.000000   \n",
       "50%     5000.50000     17.00000    889.000000     16.000000   1997.000000   \n",
       "75%     7500.25000     34.00000   1096.000000     24.000000   1999.000000   \n",
       "max    10000.00000    522.00000   3848.000000    236.000000   2004.000000   \n",
       "\n",
       "                 ay           noi           UMC           firm           MSA  \\\n",
       "count  10000.000000  10000.000000  10000.000000   10000.000000  10000.000000   \n",
       "mean    1992.682400      2.470200    569.438500  422177.515600    273.486600   \n",
       "std        4.520727      1.819957    180.249914  258237.559806    187.047603   \n",
       "min     1979.000000      1.000000     29.000000       0.000000      2.000000   \n",
       "25%     1990.000000      1.000000    370.000000  250060.000000    142.000000   \n",
       "50%     1994.000000      2.000000    704.000000  386735.000000    257.000000   \n",
       "75%     1996.000000      3.000000    711.000000  654319.000000    526.000000   \n",
       "max     1997.000000     23.000000    800.000000  864063.000000    602.000000   \n",
       "\n",
       "                tbm          tbru           PAG           npr           fpr  \\\n",
       "count  10000.000000  10000.000000  1.000000e+04  10000.000000  10000.000000   \n",
       "mean      11.196000      0.495767  4.871120e+06      3.144600      1.069600   \n",
       "std       14.839892      0.266452  6.936701e+05     13.661287      2.968676   \n",
       "min        0.000000      0.000000  0.000000e+00      0.000000      0.000000   \n",
       "25%        5.000000      0.345000  4.599728e+06      0.000000      0.000000   \n",
       "50%        8.000000      0.561750  4.973963e+06      1.000000      0.000000   \n",
       "75%       13.000000      0.707505  5.287802e+06      2.000000      1.000000   \n",
       "max      343.000000      0.933710  5.974557e+06    394.000000     85.000000   \n",
       "\n",
       "                 FT           FS  \n",
       "count  10000.000000  5910.000000  \n",
       "mean       2.224100   129.144162  \n",
       "std        0.659183   123.668584  \n",
       "min        1.000000     0.000000  \n",
       "25%        2.000000    19.000000  \n",
       "50%        2.000000    94.000000  \n",
       "75%        3.000000   225.000000  \n",
       "max        7.000000   854.000000  "
      ]
     },
     "execution_count": 87,
     "metadata": {},
     "output_type": "execute_result"
    }
   ],
   "source": [
    "data.describe()"
   ]
  },
  {
   "cell_type": "code",
   "execution_count": 88,
   "metadata": {
    "ExecuteTime": {
     "end_time": "2020-04-06T14:38:46.725857Z",
     "start_time": "2020-04-06T14:38:46.712892Z"
    }
   },
   "outputs": [
    {
     "data": {
      "text/html": [
       "<div>\n",
       "<style scoped>\n",
       "    .dataframe tbody tr th:only-of-type {\n",
       "        vertical-align: middle;\n",
       "    }\n",
       "\n",
       "    .dataframe tbody tr th {\n",
       "        vertical-align: top;\n",
       "    }\n",
       "\n",
       "    .dataframe thead th {\n",
       "        text-align: right;\n",
       "    }\n",
       "</style>\n",
       "<table border=\"1\" class=\"dataframe\">\n",
       "  <thead>\n",
       "    <tr style=\"text-align: right;\">\n",
       "      <th></th>\n",
       "      <th>Id</th>\n",
       "      <th>fwd</th>\n",
       "      <th>lag_d</th>\n",
       "      <th>noc</th>\n",
       "      <th>gy</th>\n",
       "      <th>ay</th>\n",
       "      <th>noi</th>\n",
       "      <th>UMC</th>\n",
       "      <th>firm</th>\n",
       "      <th>MSA</th>\n",
       "      <th>tbm</th>\n",
       "      <th>tbru</th>\n",
       "      <th>PAG</th>\n",
       "      <th>npr</th>\n",
       "      <th>fpr</th>\n",
       "      <th>FT</th>\n",
       "      <th>FS</th>\n",
       "    </tr>\n",
       "  </thead>\n",
       "  <tbody>\n",
       "    <tr>\n",
       "      <th>0</th>\n",
       "      <td>1</td>\n",
       "      <td>15</td>\n",
       "      <td>669</td>\n",
       "      <td>21</td>\n",
       "      <td>1998</td>\n",
       "      <td>1996</td>\n",
       "      <td>2</td>\n",
       "      <td>707</td>\n",
       "      <td>280070</td>\n",
       "      <td>261</td>\n",
       "      <td>13</td>\n",
       "      <td>0.60357</td>\n",
       "      <td>5366339.923</td>\n",
       "      <td>6</td>\n",
       "      <td>0</td>\n",
       "      <td>2</td>\n",
       "      <td>225.0</td>\n",
       "    </tr>\n",
       "    <tr>\n",
       "      <th>1</th>\n",
       "      <td>2</td>\n",
       "      <td>8</td>\n",
       "      <td>301</td>\n",
       "      <td>18</td>\n",
       "      <td>1990</td>\n",
       "      <td>1989</td>\n",
       "      <td>2</td>\n",
       "      <td>348</td>\n",
       "      <td>789656</td>\n",
       "      <td>538</td>\n",
       "      <td>1</td>\n",
       "      <td>0.00000</td>\n",
       "      <td>4719510.000</td>\n",
       "      <td>1</td>\n",
       "      <td>0</td>\n",
       "      <td>2</td>\n",
       "      <td>310.0</td>\n",
       "    </tr>\n",
       "    <tr>\n",
       "      <th>2</th>\n",
       "      <td>3</td>\n",
       "      <td>75</td>\n",
       "      <td>1016</td>\n",
       "      <td>23</td>\n",
       "      <td>1997</td>\n",
       "      <td>1994</td>\n",
       "      <td>5</td>\n",
       "      <td>725</td>\n",
       "      <td>499570</td>\n",
       "      <td>13</td>\n",
       "      <td>6</td>\n",
       "      <td>0.61112</td>\n",
       "      <td>4893738.000</td>\n",
       "      <td>0</td>\n",
       "      <td>0</td>\n",
       "      <td>2</td>\n",
       "      <td>3.0</td>\n",
       "    </tr>\n",
       "    <tr>\n",
       "      <th>3</th>\n",
       "      <td>4</td>\n",
       "      <td>50</td>\n",
       "      <td>929</td>\n",
       "      <td>32</td>\n",
       "      <td>1997</td>\n",
       "      <td>1994</td>\n",
       "      <td>3</td>\n",
       "      <td>315</td>\n",
       "      <td>654319</td>\n",
       "      <td>553</td>\n",
       "      <td>4</td>\n",
       "      <td>0.37500</td>\n",
       "      <td>4817136.250</td>\n",
       "      <td>0</td>\n",
       "      <td>5</td>\n",
       "      <td>3</td>\n",
       "      <td>64.0</td>\n",
       "    </tr>\n",
       "    <tr>\n",
       "      <th>4</th>\n",
       "      <td>5</td>\n",
       "      <td>18</td>\n",
       "      <td>1233</td>\n",
       "      <td>20</td>\n",
       "      <td>1999</td>\n",
       "      <td>1996</td>\n",
       "      <td>2</td>\n",
       "      <td>710</td>\n",
       "      <td>551495</td>\n",
       "      <td>261</td>\n",
       "      <td>2</td>\n",
       "      <td>0.00000</td>\n",
       "      <td>5135114.000</td>\n",
       "      <td>0</td>\n",
       "      <td>0</td>\n",
       "      <td>2</td>\n",
       "      <td>14.0</td>\n",
       "    </tr>\n",
       "  </tbody>\n",
       "</table>\n",
       "</div>"
      ],
      "text/plain": [
       "   Id  fwd  lag_d  noc    gy    ay  noi  UMC    firm  MSA  tbm     tbru  \\\n",
       "0   1   15    669   21  1998  1996    2  707  280070  261   13  0.60357   \n",
       "1   2    8    301   18  1990  1989    2  348  789656  538    1  0.00000   \n",
       "2   3   75   1016   23  1997  1994    5  725  499570   13    6  0.61112   \n",
       "3   4   50    929   32  1997  1994    3  315  654319  553    4  0.37500   \n",
       "4   5   18   1233   20  1999  1996    2  710  551495  261    2  0.00000   \n",
       "\n",
       "           PAG  npr  fpr  FT     FS  \n",
       "0  5366339.923    6    0   2  225.0  \n",
       "1  4719510.000    1    0   2  310.0  \n",
       "2  4893738.000    0    0   2    3.0  \n",
       "3  4817136.250    0    5   3   64.0  \n",
       "4  5135114.000    0    0   2   14.0  "
      ]
     },
     "execution_count": 88,
     "metadata": {},
     "output_type": "execute_result"
    }
   ],
   "source": [
    "data.head()"
   ]
  },
  {
   "cell_type": "code",
   "execution_count": 89,
   "metadata": {
    "ExecuteTime": {
     "end_time": "2020-04-06T14:38:47.193032Z",
     "start_time": "2020-04-06T14:38:47.185057Z"
    }
   },
   "outputs": [
    {
     "data": {
      "text/plain": [
       "((10000, 15), (10000,))"
      ]
     },
     "execution_count": 89,
     "metadata": {},
     "output_type": "execute_result"
    }
   ],
   "source": [
    "X_train = data.drop(['fwd','Id'], axis=1)\n",
    "y_train = data['fwd']\n",
    "\n",
    "X_train.shape, y_train.shape\n"
   ]
  },
  {
   "cell_type": "code",
   "execution_count": 90,
   "metadata": {
    "ExecuteTime": {
     "end_time": "2020-04-06T14:38:47.672628Z",
     "start_time": "2020-04-06T14:38:47.664649Z"
    }
   },
   "outputs": [
    {
     "data": {
      "text/plain": [
       "(14000, 15)"
      ]
     },
     "execution_count": 90,
     "metadata": {},
     "output_type": "execute_result"
    }
   ],
   "source": [
    "X_test=test.drop(['Id'], axis=1)\n",
    "X_test.shape"
   ]
  },
  {
   "cell_type": "code",
   "execution_count": 91,
   "metadata": {
    "ExecuteTime": {
     "end_time": "2020-04-06T14:38:48.140153Z",
     "start_time": "2020-04-06T14:38:48.137195Z"
    }
   },
   "outputs": [],
   "source": [
    "categorical=['gy','ay','firm','UMC','MSA','FT']"
   ]
  },
  {
   "cell_type": "code",
   "execution_count": 92,
   "metadata": {
    "ExecuteTime": {
     "end_time": "2020-04-06T14:38:48.629767Z",
     "start_time": "2020-04-06T14:38:48.624764Z"
    }
   },
   "outputs": [],
   "source": [
    "continuous=list(set(list(X_train.columns))-set(categorical))"
   ]
  },
  {
   "cell_type": "code",
   "execution_count": 93,
   "metadata": {
    "ExecuteTime": {
     "end_time": "2020-04-06T14:38:49.124112Z",
     "start_time": "2020-04-06T14:38:49.105163Z"
    }
   },
   "outputs": [],
   "source": [
    "X_train[categorical] = X_train[categorical].astype('O')\n",
    "X_test[categorical] = X_test[categorical].astype('O')"
   ]
  },
  {
   "cell_type": "code",
   "execution_count": 94,
   "metadata": {
    "ExecuteTime": {
     "end_time": "2020-04-06T14:38:49.603955Z",
     "start_time": "2020-04-06T14:38:49.600929Z"
    }
   },
   "outputs": [],
   "source": [
    "# import relevant modules for feature engineering\n",
    "from sklearn.pipeline import Pipeline\n",
    "from feature_engine import missing_data_imputers as mdi\n",
    "from feature_engine import categorical_encoders as ce\n",
    "from sklearn.linear_model import LinearRegression\n",
    "from sklearn.linear_model import Ridge\n",
    "from sklearn.tree import DecisionTreeRegressor\n",
    "from sklearn.linear_model import Lasso\n",
    "from sklearn.model_selection import GridSearchCV\n",
    "from sklearn.pipeline import Pipeline\n",
    "from sklearn.preprocessing import StandardScaler\n",
    "from feature_engine import missing_data_imputers as mdi\n",
    "from feature_engine import categorical_encoders as ce\n",
    "from feature_engine.variable_transformers import YeoJohnsonTransformer\n",
    "from sklearn.preprocessing import StandardScaler\n",
    "from feature_engine.discretisers import DecisionTreeDiscretiser\n",
    "from feature_engine.variable_transformers import LogTransformer\n",
    "from feature_engine import discretisers as dsc\n",
    "from feature_engine.categorical_encoders import OneHotCategoricalEncoder\n",
    "from feature_engine.variable_transformers import PowerTransformer\n",
    "from feature_engine.discretisers import EqualFrequencyDiscretiser\n",
    "from sklearn.preprocessing import RobustScaler\n",
    "from feature_engine.categorical_encoders import CountFrequencyCategoricalEncoder"
   ]
  },
  {
   "cell_type": "markdown",
   "metadata": {
    "ExecuteTime": {
     "end_time": "2020-04-06T14:38:50.133230Z",
     "start_time": "2020-04-06T14:38:50.129228Z"
    }
   },
   "source": [
    "patent_preprocess = Pipeline([\n",
    "    ('imputer_num', mdi.MeanMedianImputer(imputation_method='median',\n",
    "                                          variables=['FS'])),\n",
    "    # categorical encoding \n",
    "     ('rare_label_enc', ce.RareLabelCategoricalEncoder(\n",
    "         tol=0.01,n_categories=6, variables=categorical)),\n",
    "    ('categorical_enc', ce.OneHotCategoricalEncoder(variables = categorical)),\n",
    "     \n",
    "])"
   ]
  },
  {
   "cell_type": "code",
   "execution_count": 95,
   "metadata": {},
   "outputs": [],
   "source": [
    "patent_pipe = Pipeline([\n",
    " ('imputer_num', mdi.MeanMedianImputer(imputation_method='mean',variables=['FS'])),\n",
    " ('rec', PowerTransformer(variables=continuous)),\n",
    " ('desc', EqualFrequencyDiscretiser(q=50, variables = continuous)),\n",
    " ('onehot',OneHotCategoricalEncoder(variables=['gy','ay','UMC','MSA','firm','FT'],top_categories=None, drop_last=True)),\n",
    " ('standardscaler',StandardScaler(with_mean=True, with_std=False)),\n",
    " ('robustscaler', RobustScaler(with_centering=False,\n",
    "                             with_scaling=True,\n",
    "                             quantile_range=(0, 100)))\n",
    "])"
   ]
  },
  {
   "cell_type": "code",
   "execution_count": 96,
   "metadata": {
    "ExecuteTime": {
     "end_time": "2020-04-06T14:38:50.686667Z",
     "start_time": "2020-04-06T14:38:50.632843Z"
    }
   },
   "outputs": [
    {
     "data": {
      "text/plain": [
       "Pipeline(memory=None,\n",
       "         steps=[('imputer_num',\n",
       "                 MeanMedianImputer(imputation_method='mean', variables=['FS'])),\n",
       "                ('rec',\n",
       "                 PowerTransformer(exp=0.5,\n",
       "                                  variables=['noi', 'tbru', 'PAG', 'tbm',\n",
       "                                             'lag_d', 'noc', 'npr', 'fpr',\n",
       "                                             'FS'])),\n",
       "                ('desc',\n",
       "                 EqualFrequencyDiscretiser(q=50, return_object=False,\n",
       "                                           variables=['noi', 'tbru', 'PAG',\n",
       "                                                      'tbm', 'lag_d', 'noc',\n",
       "                                                      'npr', 'fpr', 'FS'])),\n",
       "                ('onehot',\n",
       "                 OneHotCategoricalEncoder(drop_last=True, top_categories=None,\n",
       "                                          variables=['gy', 'ay', 'UMC', 'MSA',\n",
       "                                                     'firm', 'FT'])),\n",
       "                ('standardscaler',\n",
       "                 StandardScaler(copy=True, with_mean=True, with_std=False)),\n",
       "                ('robustscaler',\n",
       "                 RobustScaler(copy=True, quantile_range=(0, 100),\n",
       "                              with_centering=False, with_scaling=True))],\n",
       "         verbose=False)"
      ]
     },
     "execution_count": 96,
     "metadata": {},
     "output_type": "execute_result"
    }
   ],
   "source": [
    "patent_pipe.fit(X_train,y_train)"
   ]
  },
  {
   "cell_type": "code",
   "execution_count": 97,
   "metadata": {
    "ExecuteTime": {
     "end_time": "2020-04-06T14:38:51.544405Z",
     "start_time": "2020-04-06T14:38:51.161434Z"
    }
   },
   "outputs": [],
   "source": [
    "# Apply Transformations\n",
    "X_train=patent_pipe.transform(X_train)\n",
    "X_test=patent_pipe.transform(X_test)"
   ]
  },
  {
   "cell_type": "code",
   "execution_count": 98,
   "metadata": {
    "ExecuteTime": {
     "end_time": "2020-04-06T14:38:51.996184Z",
     "start_time": "2020-04-06T14:38:51.990200Z"
    }
   },
   "outputs": [
    {
     "data": {
      "text/plain": [
       "(10000, 2756)"
      ]
     },
     "execution_count": 98,
     "metadata": {},
     "output_type": "execute_result"
    }
   ],
   "source": [
    "X_train.shape"
   ]
  },
  {
   "cell_type": "code",
   "execution_count": 99,
   "metadata": {
    "ExecuteTime": {
     "end_time": "2020-04-06T14:38:52.420047Z",
     "start_time": "2020-04-06T14:38:52.415057Z"
    }
   },
   "outputs": [
    {
     "data": {
      "text/plain": [
       "(14000, 2756)"
      ]
     },
     "execution_count": 99,
     "metadata": {},
     "output_type": "execute_result"
    }
   ],
   "source": [
    "X_test.shape"
   ]
  },
  {
   "cell_type": "code",
   "execution_count": 100,
   "metadata": {},
   "outputs": [
    {
     "name": "stdout",
     "output_type": "stream",
     "text": [
      "\n",
      "Ridge.coef_: [-4.93907954 13.89400579 10.11024506 ...  0.05056628 -3.39104857\n",
      "  5.73134519]\n",
      "Ridge.intercept_: 27.6007\n",
      "Best parameters: {'alpha': 10, 'copy_X': True, 'fit_intercept': True, 'max_iter': 10, 'normalize': False}\n",
      "Best cross-validation score: 0.18\n"
     ]
    }
   ],
   "source": [
    "from sklearn.model_selection import GridSearchCV\n",
    "from sklearn.linear_model import Ridge\n",
    "ridge = Ridge()\n",
    "    \n",
    "#define a list of parameters\n",
    "param_ridge = {'alpha': [0.001,0.1,1,10],'fit_intercept':[True,False],\n",
    "               'normalize':[True,False], 'copy_X':[True, False], 'max_iter':[10,100,500,1000]}\n",
    "\n",
    "grid_ridge2 = GridSearchCV(ridge, param_ridge, cv=5, return_train_score = True)\n",
    "grid_ridge2.fit(X_train, y_train)\n",
    "print()\n",
    "# print co-eff\n",
    "\n",
    "print(\"Ridge.coef_:\", grid_ridge2.best_estimator_.coef_)\n",
    "print(\"Ridge.intercept_:\", grid_ridge2.best_estimator_.intercept_)\n",
    "\n",
    "# Check test data set performance\n",
    "print(\"Best parameters: {}\".format(grid_ridge2.best_params_))\n",
    "print(\"Best cross-validation score: {:.2f}\".format(grid_ridge2.best_score_))"
   ]
  },
  {
   "cell_type": "code",
   "execution_count": 101,
   "metadata": {},
   "outputs": [
    {
     "name": "stdout",
     "output_type": "stream",
     "text": [
      "Score of the Model:0.28473830143512435\n"
     ]
    }
   ],
   "source": [
    "print(\"Score of the Model:{}\".format(grid_ridge2.score(X_train,y_train)))"
   ]
  },
  {
   "cell_type": "code",
   "execution_count": 102,
   "metadata": {
    "ExecuteTime": {
     "end_time": "2020-04-06T14:42:10.007348Z",
     "start_time": "2020-04-06T14:42:09.869719Z"
    }
   },
   "outputs": [],
   "source": [
    "test_data_labels = grid_ridge.predict(X_test)"
   ]
  },
  {
   "cell_type": "code",
   "execution_count": null,
   "metadata": {},
   "outputs": [],
   "source": [
    "# Create predictions to be submitted!\n",
    "pd.DataFrame({'Id': test.Id, 'fwd': test_data_labels}).to_csv('solution_base2.csv', index =False)  \n",
    "print(\"Done :D\")"
   ]
  }
 ],
 "metadata": {
  "kernelspec": {
   "display_name": "Python 3",
   "language": "python",
   "name": "python3"
  },
  "language_info": {
   "codemirror_mode": {
    "name": "ipython",
    "version": 3
   },
   "file_extension": ".py",
   "mimetype": "text/x-python",
   "name": "python",
   "nbconvert_exporter": "python",
   "pygments_lexer": "ipython3",
   "version": "3.7.6"
  },
  "toc": {
   "base_numbering": 1,
   "nav_menu": {},
   "number_sections": true,
   "sideBar": true,
   "skip_h1_title": false,
   "title_cell": "Table of Contents",
   "title_sidebar": "Contents",
   "toc_cell": false,
   "toc_position": {},
   "toc_section_display": true,
   "toc_window_display": false
  },
  "varInspector": {
   "cols": {
    "lenName": 16,
    "lenType": 16,
    "lenVar": 40
   },
   "kernels_config": {
    "python": {
     "delete_cmd_postfix": "",
     "delete_cmd_prefix": "del ",
     "library": "var_list.py",
     "varRefreshCmd": "print(var_dic_list())"
    },
    "r": {
     "delete_cmd_postfix": ") ",
     "delete_cmd_prefix": "rm(",
     "library": "var_list.r",
     "varRefreshCmd": "cat(var_dic_list()) "
    }
   },
   "types_to_exclude": [
    "module",
    "function",
    "builtin_function_or_method",
    "instance",
    "_Feature"
   ],
   "window_display": false
  }
 },
 "nbformat": 4,
 "nbformat_minor": 2
}
