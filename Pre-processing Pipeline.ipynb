patent_pipe = Pipeline([
 ('imputer_num', mdi.MeanMedianImputer(imputation_method='mean',variables=['FS'])),
 ('rec', PowerTransformer(variables=continuous)),
 ('desc', EqualFrequencyDiscretiser(q=50, variables = numerical)),
 ('onehot',OneHotCategoricalEncoder(variables=['gy','ay','UMC','MSA','firm','FT'],top_categories=None, drop_last=True)),
 ('standardscaler',StandardScaler(with_mean=True, with_std=False)),
 ('robustscaler', RobustScaler(with_centering=False,
                             with_scaling=True,
                             quantile_range=(0, 100)))
])
