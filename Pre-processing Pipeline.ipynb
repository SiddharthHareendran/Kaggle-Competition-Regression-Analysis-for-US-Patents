{
 "cells": [
  {
   "cell_type": "code",
   "execution_count": null,
   "metadata": {},
   "outputs": [],
   "source": [
    "patent_pipe = Pipeline([\n",
    " ('imputer_num', mdi.MeanMedianImputer(imputation_method='mean',variables=['FS'])),\n",
    " ('rec', PowerTransformer(variables=continuous)),\n",
    " ('desc', EqualFrequencyDiscretiser(q=50, variables = numerical)),\n",
    " ('onehot',OneHotCategoricalEncoder(variables=['gy','ay','UMC','MSA','firm','FT'],top_categories=None, drop_last=True)),\n",
    " ('standardscaler',StandardScaler(with_mean=True, with_std=False)),\n",
    " ('robustscaler', RobustScaler(with_centering=False,\n",
    "                             with_scaling=True,\n",
    "                             quantile_range=(0, 100)))\n",
    "])"
   ]
  }
 ],
 "metadata": {
  "kernelspec": {
   "display_name": "buan6341_2020",
   "language": "python",
   "name": "buan6341_2020"
  },
  "language_info": {
   "codemirror_mode": {
    "name": "ipython",
    "version": 3
   },
   "file_extension": ".py",
   "mimetype": "text/x-python",
   "name": "python",
   "nbconvert_exporter": "python",
   "pygments_lexer": "ipython3",
   "version": "3.7.6"
  },
  "toc": {
   "base_numbering": 1,
   "nav_menu": {},
   "number_sections": true,
   "sideBar": true,
   "skip_h1_title": false,
   "title_cell": "Table of Contents",
   "title_sidebar": "Contents",
   "toc_cell": false,
   "toc_position": {},
   "toc_section_display": true,
   "toc_window_display": false
  }
 },
 "nbformat": 4,
 "nbformat_minor": 2
}
